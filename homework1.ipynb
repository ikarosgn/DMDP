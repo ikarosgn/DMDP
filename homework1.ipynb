{
  "nbformat": 4,
  "nbformat_minor": 0,
  "metadata": {
    "colab": {
      "name": "HomeWork1.ipynb",
      "provenance": [],
      "collapsed_sections": [],
      "include_colab_link": true
    },
    "kernelspec": {
      "name": "python3",
      "display_name": "Python 3"
    },
    "language_info": {
      "name": "python"
    },
    "accelerator": "GPU",
    "gpuClass": "standard"
  },
  "cells": [
    {
      "cell_type": "markdown",
      "metadata": {
        "id": "view-in-github",
        "colab_type": "text"
      },
      "source": [
        "<a href=\"https://colab.research.google.com/github/ikarosgn/DMDP/blob/main/homework1.ipynb\" target=\"_parent\"><img src=\"https://colab.research.google.com/assets/colab-badge.svg\" alt=\"Open In Colab\"/></a>"
      ]
    },
    {
      "cell_type": "code",
      "execution_count": null,
      "metadata": {
        "id": "h4jgT9t_Vnzo"
      },
      "outputs": [],
      "source": [
        "import pandas as pd\n",
        "import numpy as np\n",
        "import re\n",
        "from matplotlib import pyplot as plt  \n",
        "from collections import OrderedDict"
      ]
    },
    {
      "cell_type": "code",
      "source": [
        "from google.colab import drive\n",
        "drive.mount('/content/drive')"
      ],
      "metadata": {
        "colab": {
          "base_uri": "https://localhost:8080/"
        },
        "id": "geOygL8MVxeq",
        "outputId": "8d09e704-1cc2-4232-ad08-c766f783d702"
      },
      "execution_count": null,
      "outputs": [
        {
          "output_type": "stream",
          "name": "stdout",
          "text": [
            "Drive already mounted at /content/drive; to attempt to forcibly remount, call drive.mount(\"/content/drive\", force_remount=True).\n"
          ]
        }
      ]
    },
    {
      "cell_type": "markdown",
      "source": [
        "\n",
        "1. ราคาเฉลี่ยของโครงการบ้านที่ขอนแก่น\n",
        "2. โครงการบ้านที่ขอนแก่นมีทั้งหมดกี่โครงการ\n",
        "3. โครงการที่ขอนแก่นกับอุดรอันไหนแพงกว่ากัน\n",
        "4. เปรียบเทียบจำนวนบ้านเฉลี่ยของโครงการบ้านที่ขอนแก่นกับ กทม. \n",
        "5. เปรีบเทียบราคาโครงการบ้าน+คอนโด ในจังหวัดขอนแก่น และจังหวัดโคราช\n",
        "7. ราคาเฉลี่ยของโครงการในอุดร ขอนแก่น โคราช **เทียบกับ** เชียงใหม่ เชียงราย \n",
        "8. ให้สร้าง boxplot ของราคาบ้านในจังหวัดขอนแก่น เทียบกับคอนโด\n",
        "9. บ้านในภาคเหนือ ใต้ อีสาน ที่ไหนแพงสุด ถูกสุด (เลือกจังหวัดที่เป็นตัวแทน ภาคละ 2 จังหวัด)\n",
        "10. ความหลากหลายของโครงการในขอนแก่น เทียบกับ ชลบุรี\n"
      ],
      "metadata": {
        "id": "eqzA4QU_W8Zt"
      }
    },
    {
      "cell_type": "code",
      "source": [
        "project_df = pd.read_csv('/content/drive/MyDrive/DPDM65/opendata_project.csv')\n",
        "print(project_df.shape)  ##บอกขนาดของ DataFrame\n",
        "project_df.head()"
      ],
      "metadata": {
        "colab": {
          "base_uri": "https://localhost:8080/",
          "height": 490
        },
        "id": "T-kecvOeazlX",
        "outputId": "333f2442-e24c-4b09-a746-b5ea7f6eedfc"
      },
      "execution_count": null,
      "outputs": [
        {
          "output_type": "stream",
          "name": "stdout",
          "text": [
            "(23434, 45)\n"
          ]
        },
        {
          "output_type": "execute_result",
          "data": {
            "text/plain": [
              "   row_number                project_id                             name_en  \\\n",
              "0      7880.0  5ee08d64dda791001299b2a6  Winning Residence Sukhumvit Praksa   \n",
              "1     16689.0             project_11326                    Gift Condominium   \n",
              "2       290.0  62739c4089233e001362b001    Sanrak 9 Sukprayoon Nong Krathum   \n",
              "3     20719.0              project_2010                     Baan Sansabai 1   \n",
              "4       199.0             project_16838          Baanpruksa Ratchapruek-345   \n",
              "\n",
              "                              name_th propertytype_id propertytype_name_en  \\\n",
              "0  วินนิ่ง เรสซิเดนท์ สุขุมวิท แพรกษา               1       Detached House   \n",
              "1                 กิ๊ฟท์ คอนโดมิเนียม               2                Condo   \n",
              "2      แสนรัก 9 ศุขประยูร หนองกระทุ่ม               3             Townhome   \n",
              "3                       บ้านแสนสบาย 1               1       Detached House   \n",
              "4              บ้านพฤกษา ราชพฤกษ์-345               3             Townhome   \n",
              "\n",
              "  propertytype_name_th  price_min     developer_id  \\\n",
              "0                 บ้าน  3790000.0  developer_10678   \n",
              "1                คอนโด  1100000.0   developer_7319   \n",
              "2             ทาวน์โฮม        0.0  developer_10510   \n",
              "3                 บ้าน        0.0  developer_10510   \n",
              "4             ทาวน์โฮม  1930000.0   developer_1026   \n",
              "\n",
              "              developer_name_en  ... facility_meeting  facility_park  \\\n",
              "0  Winning Asset Plus Co., Ltd.  ...              NaN            NaN   \n",
              "1      Gift Asset Land Co.,Ltd.  ...              NaN            1.0   \n",
              "2                           NaN  ...              NaN            NaN   \n",
              "3                           NaN  ...              NaN            NaN   \n",
              "4  Preuksa Real Estate Co.,Ltd.  ...              NaN            1.0   \n",
              "\n",
              "   facility_playground facility_pool facility_security         date_created  \\\n",
              "0                  NaN           1.0               1.0  2020-06-10 14:36:04   \n",
              "1                  NaN           1.0               1.0  2017-10-30 15:38:48   \n",
              "2                  NaN           NaN               NaN  2022-05-05 16:43:28   \n",
              "3                  NaN           NaN               NaN  2016-09-05 15:32:15   \n",
              "4                  NaN           1.0               1.0  2019-09-05 11:49:37   \n",
              "\n",
              "           date_finish         date_updated  source  \\\n",
              "0                  NaN  2020-12-04 10:32:58  baania   \n",
              "1  2013-01-01 07:00:00  2020-12-04 10:49:00  baania   \n",
              "2                  NaN  2022-05-05 17:30:03  baania   \n",
              "3  1970-01-02 07:00:00  2020-12-04 10:45:31  baania   \n",
              "4  1970-01-02 07:00:00  2021-03-17 12:00:04  baania   \n",
              "\n",
              "                                         url_project  \n",
              "0  https://baania.com/th/project/วินนิ่ง-เรสซิเดน...  \n",
              "1  https://baania.com/th/project/กิ๊ฟท์-คอนโดมิเน...  \n",
              "2  https://baania.com/th/project/แสนรัก-9-ศุขประย...  \n",
              "3  https://baania.com/th/project/บ้านแสนสบาย-1-pr...  \n",
              "4  https://baania.com/th/project/บ้านพฤกษา-ราชพฤก...  \n",
              "\n",
              "[5 rows x 45 columns]"
            ],
            "text/html": [
              "\n",
              "  <div id=\"df-aefa7cf7-293c-4562-a1cd-2ed9c94baced\">\n",
              "    <div class=\"colab-df-container\">\n",
              "      <div>\n",
              "<style scoped>\n",
              "    .dataframe tbody tr th:only-of-type {\n",
              "        vertical-align: middle;\n",
              "    }\n",
              "\n",
              "    .dataframe tbody tr th {\n",
              "        vertical-align: top;\n",
              "    }\n",
              "\n",
              "    .dataframe thead th {\n",
              "        text-align: right;\n",
              "    }\n",
              "</style>\n",
              "<table border=\"1\" class=\"dataframe\">\n",
              "  <thead>\n",
              "    <tr style=\"text-align: right;\">\n",
              "      <th></th>\n",
              "      <th>row_number</th>\n",
              "      <th>project_id</th>\n",
              "      <th>name_en</th>\n",
              "      <th>name_th</th>\n",
              "      <th>propertytype_id</th>\n",
              "      <th>propertytype_name_en</th>\n",
              "      <th>propertytype_name_th</th>\n",
              "      <th>price_min</th>\n",
              "      <th>developer_id</th>\n",
              "      <th>developer_name_en</th>\n",
              "      <th>...</th>\n",
              "      <th>facility_meeting</th>\n",
              "      <th>facility_park</th>\n",
              "      <th>facility_playground</th>\n",
              "      <th>facility_pool</th>\n",
              "      <th>facility_security</th>\n",
              "      <th>date_created</th>\n",
              "      <th>date_finish</th>\n",
              "      <th>date_updated</th>\n",
              "      <th>source</th>\n",
              "      <th>url_project</th>\n",
              "    </tr>\n",
              "  </thead>\n",
              "  <tbody>\n",
              "    <tr>\n",
              "      <th>0</th>\n",
              "      <td>7880.0</td>\n",
              "      <td>5ee08d64dda791001299b2a6</td>\n",
              "      <td>Winning Residence Sukhumvit Praksa</td>\n",
              "      <td>วินนิ่ง เรสซิเดนท์ สุขุมวิท แพรกษา</td>\n",
              "      <td>1</td>\n",
              "      <td>Detached House</td>\n",
              "      <td>บ้าน</td>\n",
              "      <td>3790000.0</td>\n",
              "      <td>developer_10678</td>\n",
              "      <td>Winning Asset Plus Co., Ltd.</td>\n",
              "      <td>...</td>\n",
              "      <td>NaN</td>\n",
              "      <td>NaN</td>\n",
              "      <td>NaN</td>\n",
              "      <td>1.0</td>\n",
              "      <td>1.0</td>\n",
              "      <td>2020-06-10 14:36:04</td>\n",
              "      <td>NaN</td>\n",
              "      <td>2020-12-04 10:32:58</td>\n",
              "      <td>baania</td>\n",
              "      <td>https://baania.com/th/project/วินนิ่ง-เรสซิเดน...</td>\n",
              "    </tr>\n",
              "    <tr>\n",
              "      <th>1</th>\n",
              "      <td>16689.0</td>\n",
              "      <td>project_11326</td>\n",
              "      <td>Gift Condominium</td>\n",
              "      <td>กิ๊ฟท์ คอนโดมิเนียม</td>\n",
              "      <td>2</td>\n",
              "      <td>Condo</td>\n",
              "      <td>คอนโด</td>\n",
              "      <td>1100000.0</td>\n",
              "      <td>developer_7319</td>\n",
              "      <td>Gift Asset Land Co.,Ltd.</td>\n",
              "      <td>...</td>\n",
              "      <td>NaN</td>\n",
              "      <td>1.0</td>\n",
              "      <td>NaN</td>\n",
              "      <td>1.0</td>\n",
              "      <td>1.0</td>\n",
              "      <td>2017-10-30 15:38:48</td>\n",
              "      <td>2013-01-01 07:00:00</td>\n",
              "      <td>2020-12-04 10:49:00</td>\n",
              "      <td>baania</td>\n",
              "      <td>https://baania.com/th/project/กิ๊ฟท์-คอนโดมิเน...</td>\n",
              "    </tr>\n",
              "    <tr>\n",
              "      <th>2</th>\n",
              "      <td>290.0</td>\n",
              "      <td>62739c4089233e001362b001</td>\n",
              "      <td>Sanrak 9 Sukprayoon Nong Krathum</td>\n",
              "      <td>แสนรัก 9 ศุขประยูร หนองกระทุ่ม</td>\n",
              "      <td>3</td>\n",
              "      <td>Townhome</td>\n",
              "      <td>ทาวน์โฮม</td>\n",
              "      <td>0.0</td>\n",
              "      <td>developer_10510</td>\n",
              "      <td>NaN</td>\n",
              "      <td>...</td>\n",
              "      <td>NaN</td>\n",
              "      <td>NaN</td>\n",
              "      <td>NaN</td>\n",
              "      <td>NaN</td>\n",
              "      <td>NaN</td>\n",
              "      <td>2022-05-05 16:43:28</td>\n",
              "      <td>NaN</td>\n",
              "      <td>2022-05-05 17:30:03</td>\n",
              "      <td>baania</td>\n",
              "      <td>https://baania.com/th/project/แสนรัก-9-ศุขประย...</td>\n",
              "    </tr>\n",
              "    <tr>\n",
              "      <th>3</th>\n",
              "      <td>20719.0</td>\n",
              "      <td>project_2010</td>\n",
              "      <td>Baan Sansabai 1</td>\n",
              "      <td>บ้านแสนสบาย 1</td>\n",
              "      <td>1</td>\n",
              "      <td>Detached House</td>\n",
              "      <td>บ้าน</td>\n",
              "      <td>0.0</td>\n",
              "      <td>developer_10510</td>\n",
              "      <td>NaN</td>\n",
              "      <td>...</td>\n",
              "      <td>NaN</td>\n",
              "      <td>NaN</td>\n",
              "      <td>NaN</td>\n",
              "      <td>NaN</td>\n",
              "      <td>NaN</td>\n",
              "      <td>2016-09-05 15:32:15</td>\n",
              "      <td>1970-01-02 07:00:00</td>\n",
              "      <td>2020-12-04 10:45:31</td>\n",
              "      <td>baania</td>\n",
              "      <td>https://baania.com/th/project/บ้านแสนสบาย-1-pr...</td>\n",
              "    </tr>\n",
              "    <tr>\n",
              "      <th>4</th>\n",
              "      <td>199.0</td>\n",
              "      <td>project_16838</td>\n",
              "      <td>Baanpruksa Ratchapruek-345</td>\n",
              "      <td>บ้านพฤกษา ราชพฤกษ์-345</td>\n",
              "      <td>3</td>\n",
              "      <td>Townhome</td>\n",
              "      <td>ทาวน์โฮม</td>\n",
              "      <td>1930000.0</td>\n",
              "      <td>developer_1026</td>\n",
              "      <td>Preuksa Real Estate Co.,Ltd.</td>\n",
              "      <td>...</td>\n",
              "      <td>NaN</td>\n",
              "      <td>1.0</td>\n",
              "      <td>NaN</td>\n",
              "      <td>1.0</td>\n",
              "      <td>1.0</td>\n",
              "      <td>2019-09-05 11:49:37</td>\n",
              "      <td>1970-01-02 07:00:00</td>\n",
              "      <td>2021-03-17 12:00:04</td>\n",
              "      <td>baania</td>\n",
              "      <td>https://baania.com/th/project/บ้านพฤกษา-ราชพฤก...</td>\n",
              "    </tr>\n",
              "  </tbody>\n",
              "</table>\n",
              "<p>5 rows × 45 columns</p>\n",
              "</div>\n",
              "      <button class=\"colab-df-convert\" onclick=\"convertToInteractive('df-aefa7cf7-293c-4562-a1cd-2ed9c94baced')\"\n",
              "              title=\"Convert this dataframe to an interactive table.\"\n",
              "              style=\"display:none;\">\n",
              "        \n",
              "  <svg xmlns=\"http://www.w3.org/2000/svg\" height=\"24px\"viewBox=\"0 0 24 24\"\n",
              "       width=\"24px\">\n",
              "    <path d=\"M0 0h24v24H0V0z\" fill=\"none\"/>\n",
              "    <path d=\"M18.56 5.44l.94 2.06.94-2.06 2.06-.94-2.06-.94-.94-2.06-.94 2.06-2.06.94zm-11 1L8.5 8.5l.94-2.06 2.06-.94-2.06-.94L8.5 2.5l-.94 2.06-2.06.94zm10 10l.94 2.06.94-2.06 2.06-.94-2.06-.94-.94-2.06-.94 2.06-2.06.94z\"/><path d=\"M17.41 7.96l-1.37-1.37c-.4-.4-.92-.59-1.43-.59-.52 0-1.04.2-1.43.59L10.3 9.45l-7.72 7.72c-.78.78-.78 2.05 0 2.83L4 21.41c.39.39.9.59 1.41.59.51 0 1.02-.2 1.41-.59l7.78-7.78 2.81-2.81c.8-.78.8-2.07 0-2.86zM5.41 20L4 18.59l7.72-7.72 1.47 1.35L5.41 20z\"/>\n",
              "  </svg>\n",
              "      </button>\n",
              "      \n",
              "  <style>\n",
              "    .colab-df-container {\n",
              "      display:flex;\n",
              "      flex-wrap:wrap;\n",
              "      gap: 12px;\n",
              "    }\n",
              "\n",
              "    .colab-df-convert {\n",
              "      background-color: #E8F0FE;\n",
              "      border: none;\n",
              "      border-radius: 50%;\n",
              "      cursor: pointer;\n",
              "      display: none;\n",
              "      fill: #1967D2;\n",
              "      height: 32px;\n",
              "      padding: 0 0 0 0;\n",
              "      width: 32px;\n",
              "    }\n",
              "\n",
              "    .colab-df-convert:hover {\n",
              "      background-color: #E2EBFA;\n",
              "      box-shadow: 0px 1px 2px rgba(60, 64, 67, 0.3), 0px 1px 3px 1px rgba(60, 64, 67, 0.15);\n",
              "      fill: #174EA6;\n",
              "    }\n",
              "\n",
              "    [theme=dark] .colab-df-convert {\n",
              "      background-color: #3B4455;\n",
              "      fill: #D2E3FC;\n",
              "    }\n",
              "\n",
              "    [theme=dark] .colab-df-convert:hover {\n",
              "      background-color: #434B5C;\n",
              "      box-shadow: 0px 1px 3px 1px rgba(0, 0, 0, 0.15);\n",
              "      filter: drop-shadow(0px 1px 2px rgba(0, 0, 0, 0.3));\n",
              "      fill: #FFFFFF;\n",
              "    }\n",
              "  </style>\n",
              "\n",
              "      <script>\n",
              "        const buttonEl =\n",
              "          document.querySelector('#df-aefa7cf7-293c-4562-a1cd-2ed9c94baced button.colab-df-convert');\n",
              "        buttonEl.style.display =\n",
              "          google.colab.kernel.accessAllowed ? 'block' : 'none';\n",
              "\n",
              "        async function convertToInteractive(key) {\n",
              "          const element = document.querySelector('#df-aefa7cf7-293c-4562-a1cd-2ed9c94baced');\n",
              "          const dataTable =\n",
              "            await google.colab.kernel.invokeFunction('convertToInteractive',\n",
              "                                                     [key], {});\n",
              "          if (!dataTable) return;\n",
              "\n",
              "          const docLinkHtml = 'Like what you see? Visit the ' +\n",
              "            '<a target=\"_blank\" href=https://colab.research.google.com/notebooks/data_table.ipynb>data table notebook</a>'\n",
              "            + ' to learn more about interactive tables.';\n",
              "          element.innerHTML = '';\n",
              "          dataTable['output_type'] = 'display_data';\n",
              "          await google.colab.output.renderOutput(dataTable, element);\n",
              "          const docLink = document.createElement('div');\n",
              "          docLink.innerHTML = docLinkHtml;\n",
              "          element.appendChild(docLink);\n",
              "        }\n",
              "      </script>\n",
              "    </div>\n",
              "  </div>\n",
              "  "
            ]
          },
          "metadata": {},
          "execution_count": 3
        }
      ]
    },
    {
      "cell_type": "markdown",
      "source": [
        "- วน Loop เพื่อ Check ค่าใน Columns ชื่อ `'price_min' ที่ไม่ใช่ตัวเลข "
      ],
      "metadata": {
        "id": "NrfJphLxpmI9"
      }
    },
    {
      "cell_type": "code",
      "source": [
        "xx=list()\n",
        "x_index = list()\n",
        "for k in range(len(project_df)):\n",
        "    if type(project_df['price_min'][k]) != float:\n",
        "        p1 = project_df['price_min'][k]\n",
        "        x = re.findall(\"[ก-๙]\", p1)\n",
        "        if len(x) > 0:\n",
        "            xx.append(k)\n",
        "            x_index.append(p1)\n",
        "            print(p1, k)"
      ],
      "metadata": {
        "colab": {
          "base_uri": "https://localhost:8080/"
        },
        "id": "OM05OhZHcYbG",
        "outputId": "f0ab363f-2f39-4034-fec9-c9d568d38377"
      },
      "execution_count": null,
      "outputs": [
        {
          "output_type": "stream",
          "name": "stdout",
          "text": [
            "สามโคก 5839\n",
            "สามโคก 8866\n",
            "เมืองปทุมธานี 14130\n",
            "ลาดหลุมแก้ว 21895\n",
            "สามโคก 23353\n"
          ]
        }
      ]
    },
    {
      "cell_type": "code",
      "source": [
        "print(len(xx))\n",
        "xx"
      ],
      "metadata": {
        "colab": {
          "base_uri": "https://localhost:8080/"
        },
        "id": "RfbGaAWcdNwE",
        "outputId": "4d8f1f8d-a697-4f59-bba2-310be0d3b4c0"
      },
      "execution_count": null,
      "outputs": [
        {
          "output_type": "stream",
          "name": "stdout",
          "text": [
            "5\n"
          ]
        },
        {
          "output_type": "execute_result",
          "data": {
            "text/plain": [
              "[5839, 8866, 14130, 21895, 23353]"
            ]
          },
          "metadata": {},
          "execution_count": 5
        }
      ]
    },
    {
      "cell_type": "code",
      "source": [
        "list(set(x_index))"
      ],
      "metadata": {
        "colab": {
          "base_uri": "https://localhost:8080/"
        },
        "id": "Qn6TH6e0dNx2",
        "outputId": "a3b69ad0-cd2c-42ad-efd2-180d0fd5189f"
      },
      "execution_count": null,
      "outputs": [
        {
          "output_type": "execute_result",
          "data": {
            "text/plain": [
              "['ลาดหลุมแก้ว', 'เมืองปทุมธานี', 'สามโคก']"
            ]
          },
          "metadata": {},
          "execution_count": 6
        }
      ]
    },
    {
      "cell_type": "code",
      "source": [
        "project_df_ = project_df.drop(project_df.index[xx])\n",
        "project_df_ = project_df_.reset_index(drop=True)\n",
        "print(project_df_.shape)\n",
        "project_df_.head(3)"
      ],
      "metadata": {
        "colab": {
          "base_uri": "https://localhost:8080/",
          "height": 376
        },
        "id": "pAv1WjODe5oY",
        "outputId": "d56c6eb4-81ad-42fe-b5ea-b12f52795c9e"
      },
      "execution_count": null,
      "outputs": [
        {
          "output_type": "stream",
          "name": "stdout",
          "text": [
            "(23429, 45)\n"
          ]
        },
        {
          "output_type": "execute_result",
          "data": {
            "text/plain": [
              "   row_number                project_id                             name_en  \\\n",
              "0      7880.0  5ee08d64dda791001299b2a6  Winning Residence Sukhumvit Praksa   \n",
              "1     16689.0             project_11326                    Gift Condominium   \n",
              "2       290.0  62739c4089233e001362b001    Sanrak 9 Sukprayoon Nong Krathum   \n",
              "\n",
              "                              name_th propertytype_id propertytype_name_en  \\\n",
              "0  วินนิ่ง เรสซิเดนท์ สุขุมวิท แพรกษา               1       Detached House   \n",
              "1                 กิ๊ฟท์ คอนโดมิเนียม               2                Condo   \n",
              "2      แสนรัก 9 ศุขประยูร หนองกระทุ่ม               3             Townhome   \n",
              "\n",
              "  propertytype_name_th  price_min     developer_id  \\\n",
              "0                 บ้าน  3790000.0  developer_10678   \n",
              "1                คอนโด  1100000.0   developer_7319   \n",
              "2             ทาวน์โฮม        0.0  developer_10510   \n",
              "\n",
              "              developer_name_en  ... facility_meeting  facility_park  \\\n",
              "0  Winning Asset Plus Co., Ltd.  ...              NaN            NaN   \n",
              "1      Gift Asset Land Co.,Ltd.  ...              NaN            1.0   \n",
              "2                           NaN  ...              NaN            NaN   \n",
              "\n",
              "   facility_playground facility_pool facility_security         date_created  \\\n",
              "0                  NaN           1.0               1.0  2020-06-10 14:36:04   \n",
              "1                  NaN           1.0               1.0  2017-10-30 15:38:48   \n",
              "2                  NaN           NaN               NaN  2022-05-05 16:43:28   \n",
              "\n",
              "           date_finish         date_updated  source  \\\n",
              "0                  NaN  2020-12-04 10:32:58  baania   \n",
              "1  2013-01-01 07:00:00  2020-12-04 10:49:00  baania   \n",
              "2                  NaN  2022-05-05 17:30:03  baania   \n",
              "\n",
              "                                         url_project  \n",
              "0  https://baania.com/th/project/วินนิ่ง-เรสซิเดน...  \n",
              "1  https://baania.com/th/project/กิ๊ฟท์-คอนโดมิเน...  \n",
              "2  https://baania.com/th/project/แสนรัก-9-ศุขประย...  \n",
              "\n",
              "[3 rows x 45 columns]"
            ],
            "text/html": [
              "\n",
              "  <div id=\"df-7b81415c-f6df-4c3d-9088-178f2374acdf\">\n",
              "    <div class=\"colab-df-container\">\n",
              "      <div>\n",
              "<style scoped>\n",
              "    .dataframe tbody tr th:only-of-type {\n",
              "        vertical-align: middle;\n",
              "    }\n",
              "\n",
              "    .dataframe tbody tr th {\n",
              "        vertical-align: top;\n",
              "    }\n",
              "\n",
              "    .dataframe thead th {\n",
              "        text-align: right;\n",
              "    }\n",
              "</style>\n",
              "<table border=\"1\" class=\"dataframe\">\n",
              "  <thead>\n",
              "    <tr style=\"text-align: right;\">\n",
              "      <th></th>\n",
              "      <th>row_number</th>\n",
              "      <th>project_id</th>\n",
              "      <th>name_en</th>\n",
              "      <th>name_th</th>\n",
              "      <th>propertytype_id</th>\n",
              "      <th>propertytype_name_en</th>\n",
              "      <th>propertytype_name_th</th>\n",
              "      <th>price_min</th>\n",
              "      <th>developer_id</th>\n",
              "      <th>developer_name_en</th>\n",
              "      <th>...</th>\n",
              "      <th>facility_meeting</th>\n",
              "      <th>facility_park</th>\n",
              "      <th>facility_playground</th>\n",
              "      <th>facility_pool</th>\n",
              "      <th>facility_security</th>\n",
              "      <th>date_created</th>\n",
              "      <th>date_finish</th>\n",
              "      <th>date_updated</th>\n",
              "      <th>source</th>\n",
              "      <th>url_project</th>\n",
              "    </tr>\n",
              "  </thead>\n",
              "  <tbody>\n",
              "    <tr>\n",
              "      <th>0</th>\n",
              "      <td>7880.0</td>\n",
              "      <td>5ee08d64dda791001299b2a6</td>\n",
              "      <td>Winning Residence Sukhumvit Praksa</td>\n",
              "      <td>วินนิ่ง เรสซิเดนท์ สุขุมวิท แพรกษา</td>\n",
              "      <td>1</td>\n",
              "      <td>Detached House</td>\n",
              "      <td>บ้าน</td>\n",
              "      <td>3790000.0</td>\n",
              "      <td>developer_10678</td>\n",
              "      <td>Winning Asset Plus Co., Ltd.</td>\n",
              "      <td>...</td>\n",
              "      <td>NaN</td>\n",
              "      <td>NaN</td>\n",
              "      <td>NaN</td>\n",
              "      <td>1.0</td>\n",
              "      <td>1.0</td>\n",
              "      <td>2020-06-10 14:36:04</td>\n",
              "      <td>NaN</td>\n",
              "      <td>2020-12-04 10:32:58</td>\n",
              "      <td>baania</td>\n",
              "      <td>https://baania.com/th/project/วินนิ่ง-เรสซิเดน...</td>\n",
              "    </tr>\n",
              "    <tr>\n",
              "      <th>1</th>\n",
              "      <td>16689.0</td>\n",
              "      <td>project_11326</td>\n",
              "      <td>Gift Condominium</td>\n",
              "      <td>กิ๊ฟท์ คอนโดมิเนียม</td>\n",
              "      <td>2</td>\n",
              "      <td>Condo</td>\n",
              "      <td>คอนโด</td>\n",
              "      <td>1100000.0</td>\n",
              "      <td>developer_7319</td>\n",
              "      <td>Gift Asset Land Co.,Ltd.</td>\n",
              "      <td>...</td>\n",
              "      <td>NaN</td>\n",
              "      <td>1.0</td>\n",
              "      <td>NaN</td>\n",
              "      <td>1.0</td>\n",
              "      <td>1.0</td>\n",
              "      <td>2017-10-30 15:38:48</td>\n",
              "      <td>2013-01-01 07:00:00</td>\n",
              "      <td>2020-12-04 10:49:00</td>\n",
              "      <td>baania</td>\n",
              "      <td>https://baania.com/th/project/กิ๊ฟท์-คอนโดมิเน...</td>\n",
              "    </tr>\n",
              "    <tr>\n",
              "      <th>2</th>\n",
              "      <td>290.0</td>\n",
              "      <td>62739c4089233e001362b001</td>\n",
              "      <td>Sanrak 9 Sukprayoon Nong Krathum</td>\n",
              "      <td>แสนรัก 9 ศุขประยูร หนองกระทุ่ม</td>\n",
              "      <td>3</td>\n",
              "      <td>Townhome</td>\n",
              "      <td>ทาวน์โฮม</td>\n",
              "      <td>0.0</td>\n",
              "      <td>developer_10510</td>\n",
              "      <td>NaN</td>\n",
              "      <td>...</td>\n",
              "      <td>NaN</td>\n",
              "      <td>NaN</td>\n",
              "      <td>NaN</td>\n",
              "      <td>NaN</td>\n",
              "      <td>NaN</td>\n",
              "      <td>2022-05-05 16:43:28</td>\n",
              "      <td>NaN</td>\n",
              "      <td>2022-05-05 17:30:03</td>\n",
              "      <td>baania</td>\n",
              "      <td>https://baania.com/th/project/แสนรัก-9-ศุขประย...</td>\n",
              "    </tr>\n",
              "  </tbody>\n",
              "</table>\n",
              "<p>3 rows × 45 columns</p>\n",
              "</div>\n",
              "      <button class=\"colab-df-convert\" onclick=\"convertToInteractive('df-7b81415c-f6df-4c3d-9088-178f2374acdf')\"\n",
              "              title=\"Convert this dataframe to an interactive table.\"\n",
              "              style=\"display:none;\">\n",
              "        \n",
              "  <svg xmlns=\"http://www.w3.org/2000/svg\" height=\"24px\"viewBox=\"0 0 24 24\"\n",
              "       width=\"24px\">\n",
              "    <path d=\"M0 0h24v24H0V0z\" fill=\"none\"/>\n",
              "    <path d=\"M18.56 5.44l.94 2.06.94-2.06 2.06-.94-2.06-.94-.94-2.06-.94 2.06-2.06.94zm-11 1L8.5 8.5l.94-2.06 2.06-.94-2.06-.94L8.5 2.5l-.94 2.06-2.06.94zm10 10l.94 2.06.94-2.06 2.06-.94-2.06-.94-.94-2.06-.94 2.06-2.06.94z\"/><path d=\"M17.41 7.96l-1.37-1.37c-.4-.4-.92-.59-1.43-.59-.52 0-1.04.2-1.43.59L10.3 9.45l-7.72 7.72c-.78.78-.78 2.05 0 2.83L4 21.41c.39.39.9.59 1.41.59.51 0 1.02-.2 1.41-.59l7.78-7.78 2.81-2.81c.8-.78.8-2.07 0-2.86zM5.41 20L4 18.59l7.72-7.72 1.47 1.35L5.41 20z\"/>\n",
              "  </svg>\n",
              "      </button>\n",
              "      \n",
              "  <style>\n",
              "    .colab-df-container {\n",
              "      display:flex;\n",
              "      flex-wrap:wrap;\n",
              "      gap: 12px;\n",
              "    }\n",
              "\n",
              "    .colab-df-convert {\n",
              "      background-color: #E8F0FE;\n",
              "      border: none;\n",
              "      border-radius: 50%;\n",
              "      cursor: pointer;\n",
              "      display: none;\n",
              "      fill: #1967D2;\n",
              "      height: 32px;\n",
              "      padding: 0 0 0 0;\n",
              "      width: 32px;\n",
              "    }\n",
              "\n",
              "    .colab-df-convert:hover {\n",
              "      background-color: #E2EBFA;\n",
              "      box-shadow: 0px 1px 2px rgba(60, 64, 67, 0.3), 0px 1px 3px 1px rgba(60, 64, 67, 0.15);\n",
              "      fill: #174EA6;\n",
              "    }\n",
              "\n",
              "    [theme=dark] .colab-df-convert {\n",
              "      background-color: #3B4455;\n",
              "      fill: #D2E3FC;\n",
              "    }\n",
              "\n",
              "    [theme=dark] .colab-df-convert:hover {\n",
              "      background-color: #434B5C;\n",
              "      box-shadow: 0px 1px 3px 1px rgba(0, 0, 0, 0.15);\n",
              "      filter: drop-shadow(0px 1px 2px rgba(0, 0, 0, 0.3));\n",
              "      fill: #FFFFFF;\n",
              "    }\n",
              "  </style>\n",
              "\n",
              "      <script>\n",
              "        const buttonEl =\n",
              "          document.querySelector('#df-7b81415c-f6df-4c3d-9088-178f2374acdf button.colab-df-convert');\n",
              "        buttonEl.style.display =\n",
              "          google.colab.kernel.accessAllowed ? 'block' : 'none';\n",
              "\n",
              "        async function convertToInteractive(key) {\n",
              "          const element = document.querySelector('#df-7b81415c-f6df-4c3d-9088-178f2374acdf');\n",
              "          const dataTable =\n",
              "            await google.colab.kernel.invokeFunction('convertToInteractive',\n",
              "                                                     [key], {});\n",
              "          if (!dataTable) return;\n",
              "\n",
              "          const docLinkHtml = 'Like what you see? Visit the ' +\n",
              "            '<a target=\"_blank\" href=https://colab.research.google.com/notebooks/data_table.ipynb>data table notebook</a>'\n",
              "            + ' to learn more about interactive tables.';\n",
              "          element.innerHTML = '';\n",
              "          dataTable['output_type'] = 'display_data';\n",
              "          await google.colab.output.renderOutput(dataTable, element);\n",
              "          const docLink = document.createElement('div');\n",
              "          docLink.innerHTML = docLinkHtml;\n",
              "          element.appendChild(docLink);\n",
              "        }\n",
              "      </script>\n",
              "    </div>\n",
              "  </div>\n",
              "  "
            ]
          },
          "metadata": {},
          "execution_count": 7
        }
      ]
    },
    {
      "cell_type": "code",
      "source": [
        "project_df2 = project_df_.astype({'price_min':np.float64})\n",
        "project_df2.dtypes"
      ],
      "metadata": {
        "colab": {
          "base_uri": "https://localhost:8080/"
        },
        "id": "-MJ3kRWse5wF",
        "outputId": "9252535a-8f31-4455-aa81-d2ba68b5f748"
      },
      "execution_count": null,
      "outputs": [
        {
          "output_type": "execute_result",
          "data": {
            "text/plain": [
              "row_number                float64\n",
              "project_id                 object\n",
              "name_en                    object\n",
              "name_th                    object\n",
              "propertytype_id            object\n",
              "propertytype_name_en       object\n",
              "propertytype_name_th       object\n",
              "price_min                 float64\n",
              "developer_id               object\n",
              "developer_name_en          object\n",
              "developer_name_th          object\n",
              "latitude                  float64\n",
              "longitude                 float64\n",
              "neighborhood_id            object\n",
              "neighborhood_name_en       object\n",
              "neighborhood_name_th       object\n",
              "subdistrict_id            float64\n",
              "subdistrict_name_en        object\n",
              "subdistrict_name_th        object\n",
              "district_id               float64\n",
              "district_name_en           object\n",
              "district_name_th           object\n",
              "province_id               float64\n",
              "province_name_en           object\n",
              "province_name_th           object\n",
              "zipcode                   float64\n",
              "count_elevator             object\n",
              "count_elevator_service     object\n",
              "count_floor                object\n",
              "count_parking              object\n",
              "count_tower                object\n",
              "count_unit                float64\n",
              "count_unittype            float64\n",
              "facility_clubhouse        float64\n",
              "facility_fitness          float64\n",
              "facility_meeting          float64\n",
              "facility_park             float64\n",
              "facility_playground       float64\n",
              "facility_pool             float64\n",
              "facility_security         float64\n",
              "date_created               object\n",
              "date_finish                object\n",
              "date_updated               object\n",
              "source                     object\n",
              "url_project                object\n",
              "dtype: object"
            ]
          },
          "metadata": {},
          "execution_count": 10
        }
      ]
    },
    {
      "cell_type": "markdown",
      "source": [
        "1. ราคาเฉลี่ยของโครงการบ้านที่ขอนแก่น**\n",
        "\n",
        "\n"
      ],
      "metadata": {
        "id": "6PkRvvCfaemg"
      }
    },
    {
      "cell_type": "code",
      "source": [
        "project_kk_home = project_df2[(project_df2['province_name_th'] == 'ขอนแก่น') & (project_df2['propertytype_name_th'] == 'บ้าน')]\n",
        "print(project_kk_home.shape)\n",
        "#project_kk_home.head()\n",
        "desc_projkkhom = project_kk_home.describe()\n",
        "avg_price_kk = desc_projkkhom['price_min']['mean']\n",
        "print('*'*80)\n",
        "print(f'ราคาเฉลี่ยของโครงการบ้านที่ขอนแก่น **{avg_price_kk:,}** บาท')"
      ],
      "metadata": {
        "colab": {
          "base_uri": "https://localhost:8080/"
        },
        "id": "zBC_2GwOVyQQ",
        "outputId": "5ae256ba-d298-4ea5-9457-5ce64c5e0961"
      },
      "execution_count": null,
      "outputs": [
        {
          "output_type": "stream",
          "name": "stdout",
          "text": [
            "(413, 45)\n",
            "********************************************************************************\n",
            "ราคาเฉลี่ยของโครงการบ้านที่ขอนแก่น **2,600,565.372881356** บาท\n"
          ]
        }
      ]
    },
    {
      "cell_type": "markdown",
      "source": [
        "\n",
        "\n",
        "---\n",
        "\n",
        "\n",
        "\n",
        "---\n",
        "\n"
      ],
      "metadata": {
        "id": "etFi28rXZuG1"
      }
    },
    {
      "cell_type": "markdown",
      "source": [
        "2. โครงการบ้านที่ขอนแก่นมีทั้งหมดกี่โครงการ**\n",
        "\n",
        "\n"
      ],
      "metadata": {
        "id": "I2j4KqeNiFFq"
      }
    },
    {
      "cell_type": "code",
      "source": [
        "len_Project_kk = len(project_kk_home['project_id'])\n",
        "print(f'จำนวนโครงการบ้านทั้งหมดในจังหวัดขอนแก่น **{len_Project_kk}** โครงการ')\n",
        "ProjectID_kk = len(list(set(project_kk_home['project_id'])))\n",
        "print('-'*80)\n",
        "print(f'จำนวน Project ID ของโครงการบ้านที่จังหวัดขอนแก่นทั้งหมด จำนวน **{ProjectID_kk}** รหัสโครงการ')"
      ],
      "metadata": {
        "colab": {
          "base_uri": "https://localhost:8080/"
        },
        "id": "-LAhq_rvaaZp",
        "outputId": "c98d4236-b9de-4218-857b-b1d9f477bbc1"
      },
      "execution_count": null,
      "outputs": [
        {
          "output_type": "stream",
          "name": "stdout",
          "text": [
            "จำนวนโครงการบ้านทั้งหมดในจังหวัดขอนแก่น **413** โครงการ\n",
            "--------------------------------------------------------------------------------\n",
            "จำนวน Project ID ของโครงการบ้านที่จังหวัดขอนแก่นทั้งหมด จำนวน **413** รหัสโครงการ\n"
          ]
        }
      ]
    },
    {
      "cell_type": "markdown",
      "source": [
        "\n",
        "\n",
        "---\n",
        "\n",
        "\n",
        "\n",
        "---\n",
        "\n"
      ],
      "metadata": {
        "id": "gQ28w05-ZwTi"
      }
    },
    {
      "cell_type": "markdown",
      "source": [
        "3. โครงการที่ขอนแก่นกับอุดรอันไหนแพงกว่ากัน**"
      ],
      "metadata": {
        "id": "nx8yxjWojoEM"
      }
    },
    {
      "cell_type": "code",
      "source": [
        "set_prov = len(list(set(project_df2['province_name_th'])))\n",
        "print(f'โครงการอยู่ในพื้นที่ {set_prov} จังหวัด', )\n",
        "print(list(set(project_df2['province_name_th'])))"
      ],
      "metadata": {
        "colab": {
          "base_uri": "https://localhost:8080/"
        },
        "id": "gUa8cAuKaaby",
        "outputId": "2558c34a-fd16-4871-b6ad-a0c7f3db60e9"
      },
      "execution_count": null,
      "outputs": [
        {
          "output_type": "stream",
          "name": "stdout",
          "text": [
            "โครงการอยู่ในพื้นที่ 73 จังหวัด\n",
            "['ภูเก็ต', nan, 'เพชรบุรี', 'มุกดาหาร', 'พิษณุโลก', 'ตรัง', 'ระยอง', 'พิจิตร', 'ปัตตานี', 'น่าน', 'พังงา', 'ขอนแก่น', 'เชียงใหม่', 'ราชบุรี', 'สุรินทร์', 'นครศรีธรรมราช', 'อุดรธานี', 'สระบุรี', 'สุราษฎร์ธานี', 'กาญจนบุรี', 'ปทุมธานี', 'แม่ฮ่องสอน', 'ชลบุรี', 'ฉะเชิงเทรา', 'นนทบุรี', 'พระนครศรีอยุธยา', 'หนองคาย', 'นครสวรรค์', 'อุตรดิตถ์', 'เชียงราย', 'มหาสารคาม', 'แพร่', 'สมุทรสงคราม', 'ปราจีนบุรี', 'กรุงเทพมหานคร', 'สมุทรปราการ', 'เพชรบูรณ์', 'อุบลราชธานี', 'เลย', 'ลำปาง', 'ระนอง', 'อ่างทอง', 'ลพบุรี', 'นครพนม', 'สระแก้ว', 'สุโขทัย', 'กำแพงเพชร', 'นครราชสีมา', 'ลำพูน', 'พัทลุง', 'สกลนคร', 'ตาก', 'ชัยภูมิ', 'บุรีรัมย์', 'กระบี่', 'จันทบุรี', 'สมุทรสาคร', 'ศรีสะเกษ', 'อำนาจเจริญ', 'สุพรรณบุรี', 'สงขลา', 'ตราด', 'พะเยา', 'สิงห์บุรี', 'ประจวบคีรีขันธ์', 'บึงกาฬ', 'ยโสธร', 'นครนายก', 'นครปฐม', 'ร้อยเอ็ด', 'ชุมพร', 'กาฬสินธุ์', 'หนองบัวลำภู']\n"
          ]
        }
      ]
    },
    {
      "cell_type": "code",
      "source": [
        "# โครงการที่ขอนแก่น\n",
        "project_kk = project_df2[project_df2['province_name_th'] == 'ขอนแก่น']\n",
        "print(project_kk.shape)\n",
        "desc_projkk = project_kk.describe()\n",
        "avg_projkk = desc_projkk['price_min']['mean']\n",
        "print(f'ราคาเฉลี่ยของโครงการที่จังหวัดขอนแก่น **{avg_projkk:,}** บาท')\n",
        "print('-'*80)\n",
        "# โครงการที่อุดร\n",
        "project_udon = project_df2[project_df2['province_name_th'] == 'อุดรธานี']\n",
        "print(project_udon.shape)\n",
        "desc_projudon = project_udon.describe()\n",
        "avg_projudon= desc_projudon['price_min']['mean']\n",
        "print(f'ราคาเฉลี่ยของโครงการที่จังหวัดอุดรธานี **{avg_projudon:,}** บาท')\n",
        "print('-'*80)"
      ],
      "metadata": {
        "colab": {
          "base_uri": "https://localhost:8080/"
        },
        "id": "_MQ9VN-Iaad7",
        "outputId": "55179eee-0312-4d65-859f-013a49c61d13"
      },
      "execution_count": null,
      "outputs": [
        {
          "output_type": "stream",
          "name": "stdout",
          "text": [
            "(617, 45)\n",
            "ราคาเฉลี่ยของโครงการที่จังหวัดขอนแก่น **2,428,410.045380875** บาท\n",
            "--------------------------------------------------------------------------------\n",
            "(213, 45)\n",
            "ราคาเฉลี่ยของโครงการที่จังหวัดอุดรธานี **2,639,429.9516908214** บาท\n",
            "--------------------------------------------------------------------------------\n"
          ]
        }
      ]
    },
    {
      "cell_type": "code",
      "source": [
        "if avg_projkk > avg_projudon :\n",
        "  print('----- **โครงการที่จังหวัดขอนแก่นแพงกว่าจังหวัดอุดร** -----')\n",
        "else:\n",
        "  print('---- **โครงการที่จังหวัดอุดรแพงกว่าจังหวัดขอนแก่น** ----- ')"
      ],
      "metadata": {
        "colab": {
          "base_uri": "https://localhost:8080/"
        },
        "id": "5AZw4-qBaaf6",
        "outputId": "c223d069-e407-4ce6-bb26-ee5677ddbd7d"
      },
      "execution_count": null,
      "outputs": [
        {
          "output_type": "stream",
          "name": "stdout",
          "text": [
            "---- **โครงการที่จังหวัดอุดรแพงกว่าจังหวัดขอนแก่น** ----- \n"
          ]
        }
      ]
    },
    {
      "cell_type": "markdown",
      "source": [
        "\n",
        "\n",
        "---\n",
        "\n",
        "\n",
        "\n",
        "---\n",
        "\n"
      ],
      "metadata": {
        "id": "fwa0n0giZ2AG"
      }
    },
    {
      "cell_type": "markdown",
      "source": [
        "4. เปรียบเทียบจำนวนบ้านเฉลี่ยของโครงการบ้านที่ขอนแก่นกับ กทม.**  \n"
      ],
      "metadata": {
        "id": "rvxs8L19oFiC"
      }
    },
    {
      "cell_type": "code",
      "source": [
        "#จำนวนบ้านเฉลี่ยของโครงการที่ขอนแก่น\n",
        "desc_projkkhom = project_kk_home.describe()\n",
        "avg_unit_kkhom = desc_projkkhom['count_unit']['mean']\n",
        "print('*'*80)\n",
        "print(f'จำนวนบ้านเฉลี่ยของโครงการบ้านที่ขอนแก่น **{avg_unit_kkhom:,}** หลัง\\n')\n",
        "print('*'*80)"
      ],
      "metadata": {
        "colab": {
          "base_uri": "https://localhost:8080/"
        },
        "id": "vSoLbjnaaaju",
        "outputId": "004cf024-1250-49f5-92ab-8b8099b0743a"
      },
      "execution_count": null,
      "outputs": [
        {
          "output_type": "stream",
          "name": "stdout",
          "text": [
            "********************************************************************************\n",
            "จำนวนบ้านเฉลี่ยของโครงการบ้านที่ขอนแก่น **58.946996466431095** หลัง\n",
            "\n",
            "********************************************************************************\n"
          ]
        }
      ]
    },
    {
      "cell_type": "code",
      "source": [
        "#จำนวนบ้านเฉลี่ยของโครงการที่ กทม.\n",
        "bangkok_home = project_df2[(project_df2['province_name_th'] == 'กรุงเทพมหานคร') & (project_df2['propertytype_name_th'] == 'บ้าน')]\n",
        "print(bangkok_home.shape)\n",
        "desc_bkhome = bangkok_home.describe()\n",
        "avg_unit_bkhom = desc_bkhome['count_unit']['mean']\n",
        "print('*'*80)\n",
        "print(f'จำนวนบ้านเฉลี่ยของโครงการบ้านที่ กทม. **{avg_unit_bkhom:,}** หลัง\\n')\n",
        "print('*'*80)"
      ],
      "metadata": {
        "colab": {
          "base_uri": "https://localhost:8080/"
        },
        "id": "kK8coCLboKaK",
        "outputId": "e4492bf7-0189-4721-e0cc-383c11c68f3b"
      },
      "execution_count": null,
      "outputs": [
        {
          "output_type": "stream",
          "name": "stdout",
          "text": [
            "(1712, 45)\n",
            "********************************************************************************\n",
            "จำนวนบ้านเฉลี่ยของโครงการบ้านที่ กทม. **144.13577863577865** หลัง\n",
            "\n",
            "********************************************************************************\n"
          ]
        }
      ]
    },
    {
      "cell_type": "code",
      "source": [
        "if avg_unit_kkhom > avg_unit_bkhom :\n",
        "  print('----- **จำนวนบ้านเฉลี่ยของโครงการบ้านที่ขอนแก่น มากกว่า กทม.** -----')\n",
        "else:\n",
        "  print('---- **จำนวนบ้านเฉลี่ยของโครงการบ้านที่ กทม. มากกว่า ขอนแก่น** ----- ')"
      ],
      "metadata": {
        "colab": {
          "base_uri": "https://localhost:8080/"
        },
        "id": "yCTh15xLoKcZ",
        "outputId": "6c6b9e6d-baee-4508-e013-7d93b0445894"
      },
      "execution_count": null,
      "outputs": [
        {
          "output_type": "stream",
          "name": "stdout",
          "text": [
            "---- **จำนวนบ้านเฉลี่ยของโครงการบ้านที่ กทม. มากกว่า ขอนแก่น** ----- \n"
          ]
        }
      ]
    },
    {
      "cell_type": "markdown",
      "source": [
        "เปรีบเทียบราคาโครงการบ้าน+คอนโด ในจังหวัดขอนแก่น และจังหวัดโคราช**\n",
        "\n",
        "\n",
        "\n"
      ],
      "metadata": {
        "id": "Hn6NmNeesel3"
      }
    },
    {
      "cell_type": "code",
      "source": [
        "# โครงการบ้าน+คอนโด ในจังหวัดขอนแก่น \n",
        "project_kk = project_df2[project_df2['province_name_th']=='ขอนแก่น'] ##เลือกโครงการที่ขอนแก้น\n",
        "home_condo_kk = project_kk[(project_kk['propertytype_name_th'] == 'คอนโด') | (project_kk['propertytype_name_th'] == 'บ้าน')] ##เลือกประเภทบ้าน+คอนโด\n",
        "print(home_condo_kk.shape)\n",
        "print(f'ประเภทโครงการ {list(set(home_condo_kk.propertytype_name_th))}')\n",
        "descr_home_condo_kk = home_condo_kk.describe()\n",
        "price_home_condo_kk =  descr_home_condo_kk['price_min']['mean']\n",
        "print('*'*80)\n",
        "print(f'ราคาโครงการบ้าน+คอนโดในจังหวัดขอนแก่นโดยเฉลี่ย **{price_home_condo_kk:,}** บาท\\n')\n",
        "print('*'*80)"
      ],
      "metadata": {
        "colab": {
          "base_uri": "https://localhost:8080/"
        },
        "id": "qOMCoJLLaalh",
        "outputId": "a981511d-9820-4341-ccff-84d9ac6ff8be"
      },
      "execution_count": null,
      "outputs": [
        {
          "output_type": "stream",
          "name": "stdout",
          "text": [
            "(459, 45)\n",
            "ประเภทโครงการ ['คอนโด', 'บ้าน']\n",
            "********************************************************************************\n",
            "ราคาโครงการบ้าน+คอนโดในจังหวัดขอนแก่นโดยเฉลี่ย **2,484,993.4618736384** บาท\n",
            "\n",
            "********************************************************************************\n"
          ]
        }
      ]
    },
    {
      "cell_type": "code",
      "source": [
        "# โครงการบ้าน+คอนโด ในจังหวัดโคราช\n",
        "project_Ratchasima = project_df2[project_df2['province_name_th']=='นครราชสีมา']\n",
        "home_condo_Ratchasima = project_Ratchasima[(project_Ratchasima['propertytype_name_th'] == 'คอนโด') | (project_Ratchasima['propertytype_name_th'] == 'บ้าน')]\n",
        "print(home_condo_Ratchasima.shape)\n",
        "print(f'ประเภทโครงการ {list(set(home_condo_Ratchasima.propertytype_name_th))}')\n",
        "descr_home_condo_Ratchasima = home_condo_Ratchasima.describe()\n",
        "price_home_condo_sima =  descr_home_condo_Ratchasima['price_min']['mean']\n",
        "print('*'*80)\n",
        "print(f'ราคาโครงการบ้าน+คอนโดในจังหวัดโคราชโดยเฉลี่ย **{price_home_condo_sima:,}** บาท\\n')\n",
        "print('*'*80)"
      ],
      "metadata": {
        "colab": {
          "base_uri": "https://localhost:8080/"
        },
        "id": "N_YqpAsFaapD",
        "outputId": "9512e800-77c4-42ec-871a-a66132d23b94"
      },
      "execution_count": null,
      "outputs": [
        {
          "output_type": "stream",
          "name": "stdout",
          "text": [
            "(580, 45)\n",
            "ประเภทโครงการ ['คอนโด', 'บ้าน']\n",
            "********************************************************************************\n",
            "ราคาโครงการบ้าน+คอนโดในจังหวัดโคราชโดยเฉลี่ย **2,831,322.357019064** บาท\n",
            "\n",
            "********************************************************************************\n"
          ]
        }
      ]
    },
    {
      "cell_type": "code",
      "source": [
        "if price_home_condo_kk > price_home_condo_sima :\n",
        "  print('----- ราคาเฉลี่ยของโครงการบ้าน+คอนโด ในจังหวัดขอนแก่นแพงกว่าจังหวัดโคราช-----')\n",
        "else:\n",
        "  print('----  **ราคาเฉลี่ยของโครงการบ้าน+คอนโด ในจังหวัดโคราชแพงกว่าจังหวัดขอนแก่น ----- ')"
      ],
      "metadata": {
        "colab": {
          "base_uri": "https://localhost:8080/"
        },
        "id": "TS0fRA1gaarm",
        "outputId": "f321f2d3-cebe-4c13-8ba8-0351e2e4c076"
      },
      "execution_count": null,
      "outputs": [
        {
          "output_type": "stream",
          "name": "stdout",
          "text": [
            "----  **ราคาเฉลี่ยของโครงการบ้าน+คอนโด ในจังหวัดโคราชแพงกว่าจังหวัดขอนแก่น ----- \n"
          ]
        }
      ]
    },
    {
      "cell_type": "markdown",
      "source": [
        "\n",
        "\n",
        "---\n",
        "\n",
        "\n",
        "\n",
        "---\n",
        "\n"
      ],
      "metadata": {
        "id": "CCJFf8FhaBqL"
      }
    },
    {
      "cell_type": "markdown",
      "source": [
        "6. ราคาเฉลี่ยของโครงการในอุดร ขอนแก่น โคราช เทียบกับ เชียงใหม่ เชียงราย"
      ],
      "metadata": {
        "id": "rijOEDazuvoK"
      }
    },
    {
      "cell_type": "code",
      "source": [
        "# โครงการในอุดร ขอนแก่น โคราช\n",
        "project_A = project_df2[(project_df2['province_name_th'] == 'ขอนแก่น') | (project_df2['province_name_th'] == 'อุดรธานี') | (project_df2['province_name_th'] == 'นครราชสีมา') ]\n",
        "print(project_A.shape)\n",
        "print(f'โครงการในอุดร ขอนแก่น โคราชมีทั้งหมด {len(project_A):,} โครงการ')\n",
        "#print(list(set(project_A.propertytype_name_th)))\n",
        "descr_project_A = project_A.describe()\n",
        "avg_price_A  = descr_project_A['price_min']['mean']\n",
        "print('*'*80)\n",
        "print(f'ราคาเฉลี่ยของโครงการในอุดร ขอนแก่น โคราช **{avg_price_A:,}** บาท\\n')\n",
        "print('*'*80)"
      ],
      "metadata": {
        "colab": {
          "base_uri": "https://localhost:8080/"
        },
        "id": "G7_PoHRsumqf",
        "outputId": "d7dc9c67-d87d-4cc3-864d-d3c3f08be78c"
      },
      "execution_count": null,
      "outputs": [
        {
          "output_type": "stream",
          "name": "stdout",
          "text": [
            "(1642, 45)\n",
            "โครงการในอุดร ขอนแก่น โคราชมีทั้งหมด 1,642 โครงการ\n",
            "********************************************************************************\n",
            "ราคาเฉลี่ยของโครงการในอุดร ขอนแก่น โคราช **2,578,077.3272058824** บาท\n",
            "\n",
            "********************************************************************************\n"
          ]
        }
      ]
    },
    {
      "cell_type": "code",
      "source": [
        "## โครงการในเชียงใหม่ เชียงราย\n",
        "project_B = project_df2[(project_df2['province_name_th'] == 'เชียงใหม่') | (project_df2['province_name_th'] == 'เชียงราย')]\n",
        "print(project_B.shape)\n",
        "print(f'โครงการในเชียงใหม่ เชียงรายมีทั้งหมด {len(project_B):,} โครงการ')\n",
        "#print(list(set(project_A.propertytype_name_th)))\n",
        "descr_project_B = project_B.describe()\n",
        "avg_price_B = descr_project_B['price_min']['mean']\n",
        "print('*'*80)\n",
        "print(f'ราคาเฉลี่ยของโครงการในเชียงใหม่ เชียงราย **{avg_price_B:,}** บาท\\n')\n",
        "print('*'*80)"
      ],
      "metadata": {
        "colab": {
          "base_uri": "https://localhost:8080/"
        },
        "id": "2NEROaiJu2J0",
        "outputId": "d93b3ea8-15cc-40ec-e898-94c6d9727d45"
      },
      "execution_count": null,
      "outputs": [
        {
          "output_type": "stream",
          "name": "stdout",
          "text": [
            "(1711, 45)\n",
            "โครงการในเชียงใหม่ เชียงรายมีทั้งหมด 1,711 โครงการ\n",
            "********************************************************************************\n",
            "ราคาเฉลี่ยของโครงการในเชียงใหม่ เชียงราย **2,919,366.1607038123** บาท\n",
            "\n",
            "********************************************************************************\n"
          ]
        }
      ]
    },
    {
      "cell_type": "code",
      "source": [
        "if avg_price_A > avg_price_B :\n",
        "  print('----- **ราคาเฉลี่ยของโครงการในอุดร ขอนแก่น โคราช แพงกว่า เชียงใหม่ เชียงราย -----')\n",
        "else:\n",
        "  print('----  **ราคาเฉลี่ยของโครงการในเชียงใหม่ เชียงราย แพงกว่า อุดร ขอนแก่น โคราช ----- ')"
      ],
      "metadata": {
        "colab": {
          "base_uri": "https://localhost:8080/"
        },
        "id": "u4ryw-ZJu2Nk",
        "outputId": "e4f45e98-83ec-4ad6-f7c2-bb24977cc11d"
      },
      "execution_count": null,
      "outputs": [
        {
          "output_type": "stream",
          "name": "stdout",
          "text": [
            "----  **ราคาเฉลี่ยของโครงการในเชียงใหม่ เชียงราย แพงกว่า อุดร ขอนแก่น โคราช ----- \n"
          ]
        }
      ]
    },
    {
      "cell_type": "markdown",
      "source": [
        "\n",
        "\n",
        "---\n",
        "\n",
        "\n",
        "\n",
        "---\n",
        "\n"
      ],
      "metadata": {
        "id": "Efn6JIYbaGCl"
      }
    },
    {
      "cell_type": "markdown",
      "source": [
        "7. ให้สร้าง boxplot ของราคาบ้านในจังหวัดขอนแก่น เทียบกับคอนโด"
      ],
      "metadata": {
        "id": "mw2z9aPFw7Mh"
      }
    },
    {
      "cell_type": "code",
      "source": [
        "# โครงการบ้านในขอนแก่น\n",
        "project_kk_home = project_df2[(project_df2['province_name_th'] == 'ขอนแก่น') & (project_df2['propertytype_name_th'] == 'บ้าน')]\n",
        "print(project_kk_home.shape)\n",
        "#project_kk_home.head()\n",
        "desc_projkkhom = project_kk_home.describe()\n",
        "avg_price_kk = desc_projkkhom['price_min']['mean']\n",
        "print('*'*80)\n",
        "print(f'ราคาบ้านเฉลี่ยในโครงการที่จังหวัดขอนแก่น **{avg_price_kk:,}** บาท')"
      ],
      "metadata": {
        "colab": {
          "base_uri": "https://localhost:8080/"
        },
        "id": "2--3AlESu2Pc",
        "outputId": "d644d175-5cfb-4a75-9be8-e6883ee9ba18"
      },
      "execution_count": null,
      "outputs": [
        {
          "output_type": "stream",
          "name": "stdout",
          "text": [
            "(413, 45)\n",
            "********************************************************************************\n",
            "ราคาบ้านเฉลี่ยในโครงการที่จังหวัดขอนแก่น **2,600,565.372881356** บาท\n"
          ]
        }
      ]
    },
    {
      "cell_type": "code",
      "source": [
        "#set(project_kk_home.propertytype_name_th)"
      ],
      "metadata": {
        "id": "j4nTizdvu2Rh"
      },
      "execution_count": null,
      "outputs": []
    },
    {
      "cell_type": "code",
      "source": [
        "# โครงการคอนโดในขอนแก่น\n",
        "kk_codo = project_df2[(project_df2['province_name_th'] == 'ขอนแก่น') & (project_df2['propertytype_name_th'] == 'คอนโด')]\n",
        "print(kk_codo.shape)\n",
        "desc_projkkcon = kk_codo.describe()\n",
        "price_kkcon = desc_projkkcon['price_min']['mean']\n",
        "print('*'*80)\n",
        "print(f'ราคาคอนโดเฉลี่ยในโครงการที่จังหวัดขอนแก่น **{price_kkcon:,}** บาท')"
      ],
      "metadata": {
        "colab": {
          "base_uri": "https://localhost:8080/"
        },
        "id": "ObutFXY9u2To",
        "outputId": "a46c18c2-4f40-4220-f542-56e9c4ad220d"
      },
      "execution_count": null,
      "outputs": [
        {
          "output_type": "stream",
          "name": "stdout",
          "text": [
            "(46, 45)\n",
            "********************************************************************************\n",
            "ราคาคอนโดเฉลี่ยในโครงการที่จังหวัดขอนแก่น **1,447,358.6956521738** บาท\n"
          ]
        }
      ]
    },
    {
      "cell_type": "code",
      "source": [
        "import matplotlib as mpl\n",
        "mpl.__version__"
      ],
      "metadata": {
        "colab": {
          "base_uri": "https://localhost:8080/",
          "height": 36
        },
        "id": "xoKwWEN90NJK",
        "outputId": "9ad33891-3972-433e-ee46-19c87cc3e208"
      },
      "execution_count": null,
      "outputs": [
        {
          "output_type": "execute_result",
          "data": {
            "text/plain": [
              "'3.2.2'"
            ],
            "application/vnd.google.colaboratory.intrinsic+json": {
              "type": "string"
            }
          },
          "metadata": {},
          "execution_count": 75
        }
      ]
    },
    {
      "cell_type": "code",
      "source": [
        "!wget -q https://github.com/Phonbopit/sarabun-webfont/raw/master/fonts/thsarabunnew-webfont.ttf"
      ],
      "metadata": {
        "id": "ehAQDa040O6c"
      },
      "execution_count": null,
      "outputs": []
    },
    {
      "cell_type": "code",
      "source": [
        "# !pip install -U --pre matplotlib  \n",
        "import matplotlib as mpl\n",
        "mpl.font_manager.fontManager.addfont('thsarabunnew-webfont.ttf')\n",
        "mpl.rc('font', family='TH Sarabun New')"
      ],
      "metadata": {
        "id": "34ZvYPdr0O8r"
      },
      "execution_count": null,
      "outputs": []
    },
    {
      "cell_type": "code",
      "source": [
        "# สร้าง boxplot\n",
        "import matplotlib.pyplot as plt\n",
        "\n",
        "kk_home_ = project_kk_home[project_kk_home['price_min'].notna()]\n",
        "kk_condo_ = kk_codo[kk_codo['price_min'].notna()]\n",
        "Lst_kk_home_ = kk_home_['price_min'].tolist()\n",
        "Lst_kk_condo_ = kk_condo_['price_min'].tolist()\n",
        "arr_kk_home  = np.array(Lst_kk_home_)\n",
        "arr_kk_condo = np.array(Lst_kk_condo_)\n",
        "data = [arr_kk_home,arr_kk_condo]\n",
        "my_labels = ['Home', 'Condo']\n",
        "fig = plt.figure(figsize =(10, 7))\n",
        "# Creating axes instance\n",
        "ax = fig.add_axes([0, 0, 1, 1])\n",
        " # Creating plot\n",
        "bp = ax.boxplot(data, labels=my_labels, )\n",
        "ax.set_xticklabels(labels=my_labels, Fontsize=15)\n",
        "\n",
        "# show plot\n",
        "ax.set_title('Box plot เปรียบเทียบราคาบ้านกับราคาคอนโดในโครงการจังหวัดขอนแก่น', Fontsize=18)\n",
        "plt.show()"
      ],
      "metadata": {
        "colab": {
          "base_uri": "https://localhost:8080/",
          "height": 641
        },
        "id": "0tFy3qVlu2VV",
        "outputId": "91a97629-acf7-49e1-d52f-ec0b70935b32"
      },
      "execution_count": null,
      "outputs": [
        {
          "output_type": "stream",
          "name": "stderr",
          "text": [
            "/usr/local/lib/python3.7/dist-packages/matplotlib/cbook/__init__.py:1376: VisibleDeprecationWarning: Creating an ndarray from ragged nested sequences (which is a list-or-tuple of lists-or-tuples-or ndarrays with different lengths or shapes) is deprecated. If you meant to do this, you must specify 'dtype=object' when creating the ndarray.\n",
            "  X = np.atleast_1d(X.T if isinstance(X, np.ndarray) else np.asarray(X))\n"
          ]
        },
        {
          "output_type": "display_data",
          "data": {
            "text/plain": [
              "<Figure size 720x504 with 1 Axes>"
            ],
            "image/png": "[encoded data removed]"
          },
          "metadata": {
            "needs_background": "light"
          }
        }
      ]
    },
    {
      "cell_type": "markdown",
      "source": [
        "\n",
        "\n",
        "---\n",
        "\n",
        "\n",
        "\n",
        "---\n",
        "\n"
      ],
      "metadata": {
        "id": "TwTrnyYyaKDD"
      }
    },
    {
      "cell_type": "markdown",
      "source": [
        "### **8. บ้านในภาคเหนือ ใต้ อีสาน ที่ไหนแพงสุด ถูกสุด (เลือกจังหวัดที่เป็นตัวแทน ภาคละ 2 จังหวัด)**"
      ],
      "metadata": {
        "id": "nGbf5v1e270d"
      }
    },
    {
      "cell_type": "code",
      "source": [
        "# โครงการบ้านในภาคเหนือ\n",
        "North = project_df2[(project_df2['province_name_th'] == 'เชียงใหม่') | (project_df2['province_name_th'] == 'เชียงราย')]\n",
        "NortHome = North[North['propertytype_name_th']=='บ้าน']\n",
        "print(NortHome.shape)\n",
        "desc_NortHome = NortHome.describe()\n",
        "avg_priceNortHome = desc_NortHome['price_min']['mean']\n",
        "print('*'*80)\n",
        "print(f'ราคาบ้านเฉลี่ยในโครงการพื้นที่ภาคเหนือ **{avg_priceNortHome:,}** บาท')"
      ],
      "metadata": {
        "colab": {
          "base_uri": "https://localhost:8080/"
        },
        "id": "CojzI-Ys0e0U",
        "outputId": "ae82fdef-13fb-4e44-d13d-b4c51a19ba46"
      },
      "execution_count": null,
      "outputs": [
        {
          "output_type": "stream",
          "name": "stdout",
          "text": [
            "(1067, 45)\n",
            "********************************************************************************\n",
            "ราคาบ้านเฉลี่ยในโครงการพื้นที่ภาคเหนือ **3,225,139.4566854993** บาท\n"
          ]
        }
      ]
    },
    {
      "cell_type": "code",
      "source": [
        "# โครงการบ้านในภาคใต้\n",
        "South = project_df2[(project_df2['province_name_th'] == 'นครศรีธรรมราช') | (project_df2['province_name_th'] == 'สงขลา')]\n",
        "SouthHome = South[South['propertytype_name_th']=='บ้าน']\n",
        "print(SouthHome.shape)\n",
        "desc_SouthHome = SouthHome.describe()\n",
        "avg_priceSouthHome= desc_SouthHome['price_min']['mean']\n",
        "print('*'*80)\n",
        "print(f'ราคาบ้านเฉลี่ยในโครงการพื้นที่ภาคใต้ **{avg_priceSouthHome:,}** บาท')"
      ],
      "metadata": {
        "colab": {
          "base_uri": "https://localhost:8080/"
        },
        "id": "t9h4IWj43Mp4",
        "outputId": "0e7ef6a5-6b84-4f36-d447-2a8bfd0e1522"
      },
      "execution_count": null,
      "outputs": [
        {
          "output_type": "stream",
          "name": "stdout",
          "text": [
            "(266, 45)\n",
            "********************************************************************************\n",
            "ราคาบ้านเฉลี่ยในโครงการพื้นที่ภาคใต้ **3,434,315.785714286** บาท\n"
          ]
        }
      ]
    },
    {
      "cell_type": "code",
      "source": [
        "# โครงการบ้านในภาคอีสาน\n",
        "Northeast = project_df2[(project_df2['province_name_th'] == 'นครราชสีมา') | (project_df2['province_name_th'] == 'อุบลราชธานี')]\n",
        "NortheastHome = Northeast[Northeast['propertytype_name_th']=='บ้าน']\n",
        "print(NortheastHome.shape)\n",
        "desc_NortheastHome = NortheastHome.describe()\n",
        "avg_priceNortheastHome = desc_NortheastHome['price_min']['mean']\n",
        "print('*'*80)\n",
        "print(f'ราคาบ้านเฉลี่ยในโครงการพื้นที่ภาคอีสาน **{avg_priceNortheastHome:,}** บาท')"
      ],
      "metadata": {
        "colab": {
          "base_uri": "https://localhost:8080/"
        },
        "id": "qJUvX8MvMu_e",
        "outputId": "3e4e5dd5-b64f-44d5-b53f-d182ad055807"
      },
      "execution_count": null,
      "outputs": [
        {
          "output_type": "stream",
          "name": "stdout",
          "text": [
            "(583, 45)\n",
            "********************************************************************************\n",
            "ราคาบ้านเฉลี่ยในโครงการพื้นที่ภาคอีสาน **2,815,397.7280550776** บาท\n"
          ]
        }
      ]
    },
    {
      "cell_type": "code",
      "source": [
        "# Create dictionary\n",
        "dict_price = {'North': avg_priceNortHome, 'South':avg_priceSouthHome, 'Northeast': avg_priceNortheastHome}\n",
        "#dict_price\n",
        "# dictionary sorted by value\n",
        "sorted_price = OrderedDict(sorted(dict_price.items(), key=lambda t: t[1]))\n",
        "price_item = list(sorted_price.items())\n",
        "print(price_item)\n",
        "print('*'*80)\n",
        "print('ราคาบ้านในภาคเหนือ ใต้ และ อีสานเรียงลำดับจาก *ถูกที่สุด* ไป *แพงที่สุด*')\n",
        "for i in range(len(price_item)):\n",
        "    ph = price_item[i]\n",
        "    print('-'*50)\n",
        "    print(f'ภาค {ph[0]} ราคา {ph[1]:,} บาท')"
      ],
      "metadata": {
        "colab": {
          "base_uri": "https://localhost:8080/"
        },
        "id": "6uK3iy3BMvBq",
        "outputId": "8d11e9ce-16e4-4830-8ad8-dba8864dc65f"
      },
      "execution_count": null,
      "outputs": [
        {
          "output_type": "stream",
          "name": "stdout",
          "text": [
            "[('Northeast', 2815397.7280550776), ('North', 3225139.4566854993), ('South', 3434315.785714286)]\n",
            "********************************************************************************\n",
            "ราคาบ้านในภาคเหนือ ใต้ และ อีสานเรียงลำดับจาก *ถูกที่สุด* ไป *แพงที่สุด*\n",
            "--------------------------------------------------\n",
            "ภาค Northeast ราคา 2,815,397.7280550776 บาท\n",
            "--------------------------------------------------\n",
            "ภาค North ราคา 3,225,139.4566854993 บาท\n",
            "--------------------------------------------------\n",
            "ภาค South ราคา 3,434,315.785714286 บาท\n"
          ]
        }
      ]
    },
    {
      "cell_type": "markdown",
      "source": [
        "\n",
        "\n",
        "---\n",
        "\n",
        "\n",
        "\n",
        "---\n",
        "\n"
      ],
      "metadata": {
        "id": "CQKJsAPqaT6h"
      }
    },
    {
      "cell_type": "markdown",
      "source": [
        "9. ความหลากหลายของโครงการในขอนแก่น เทียบกับ ชลบุรี"
      ],
      "metadata": {
        "id": "Bs90pr7a3aBP"
      }
    },
    {
      "cell_type": "code",
      "source": [
        "# โครงการในขอนแก่น\n",
        "project_kk = project_df2[project_df2['province_name_th'] == 'ขอนแก่น']\n",
        "print(project_kk.shape)\n",
        "print('*'*80)\n",
        "# แสดงประเภทของโครงการที่มีทั้งหมดในจังหวัดขอนแก่น\n",
        "type_name_kk = project_kk['propertytype_name_th']\n",
        "print(f'จำนวนประเภทของโครงการที่มีทั้งหมดในขอนแก่น **{len(list(set(type_name_kk)))}** ประเภท')\n",
        "print(f'ประเภทโครงการในขอนแก่นประกอบด้วย {list(set(type_name_kk))}')\n",
        "print('-'*80)\n",
        "print('\\n')\n",
        "# โครงการในชลบุรี\n",
        "project_Chon = project_df2[project_df2['province_name_th'] == 'ชลบุรี']\n",
        "print(project_Chon.shape)\n",
        "print('*'*80)\n",
        "# แสดงประเภทของโครงการที่มีทั้งหมดในจังหวัดชลบุรี\n",
        "type_name_Chon = project_Chon['propertytype_name_th']\n",
        "print(f'จำนวนประเภทของโครงการที่มีทั้งหมดในชลบุรี **{len(list(set(type_name_Chon)))}** ประเภท')\n",
        "print(f'ประเภทโครงการในชลบุรีประกอบด้วย {list(set(type_name_Chon))}')\n",
        "print('-'*80)"
      ],
      "metadata": {
        "colab": {
          "base_uri": "https://localhost:8080/"
        },
        "id": "H4z6cEgz3Mr4",
        "outputId": "975d980b-6db1-414a-b460-47c61c52e169"
      },
      "execution_count": null,
      "outputs": [
        {
          "output_type": "stream",
          "name": "stdout",
          "text": [
            "(617, 45)\n",
            "********************************************************************************\n",
            "จำนวนประเภทของโครงการที่มีทั้งหมดในขอนแก่น **6** ประเภท\n",
            "ประเภทโครงการในขอนแก่นประกอบด้วย ['คอนโด', 'บ้านแฝด', 'ทาวน์โฮม', 'บ้าน', 'โฮมออฟฟิศ', 'อาคารพาณิชย์']\n",
            "--------------------------------------------------------------------------------\n",
            "\n",
            "\n",
            "(2863, 45)\n",
            "********************************************************************************\n",
            "จำนวนประเภทของโครงการที่มีทั้งหมดในชลบุรี **8** ประเภท\n",
            "ประเภทโครงการในชลบุรีประกอบด้วย ['โรงแรม', 'คอนโด', 'บ้านแฝด', 'ทาวน์โฮม', 'อพาตเมนต์', 'บ้าน', 'โฮมออฟฟิศ', 'อาคารพาณิชย์']\n",
            "--------------------------------------------------------------------------------\n"
          ]
        }
      ]
    },
    {
      "cell_type": "code",
      "source": [
        "set_ytpe = set(type_name_Chon) - set(type_name_kk)\n",
        "print(f'----- ประเภทของโครงการที่ขอนแก่นไม่มีเหมือนชลบุรี คือ *{set_ytpe}* -----')"
      ],
      "metadata": {
        "colab": {
          "base_uri": "https://localhost:8080/"
        },
        "id": "8zxUIQehZEDJ",
        "outputId": "e97f49e6-65ef-4227-aaf8-abe77e12bfba"
      },
      "execution_count": null,
      "outputs": [
        {
          "output_type": "stream",
          "name": "stdout",
          "text": [
            "----- ประเภทของโครงการที่ขอนแก่นไม่มีเหมือนชลบุรี คือ *{'โรงแรม', 'อพาตเมนต์'}* -----\n"
          ]
        }
      ]
    }
  ]
}